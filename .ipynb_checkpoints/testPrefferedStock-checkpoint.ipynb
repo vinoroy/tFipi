{
 "cells": [
  {
   "cell_type": "code",
   "execution_count": 3,
   "metadata": {
    "collapsed": true
   },
   "outputs": [],
   "source": [
    "from pandas_datareader import data as pdr\n",
    "import datetime\n",
    "from bs4 import BeautifulSoup\n",
    "import urllib2\n",
    "import pandas as pd"
   ]
  },
  {
   "cell_type": "code",
   "execution_count": 4,
   "metadata": {},
   "outputs": [
    {
     "data": {
      "text/html": [
       "<div>\n",
       "<style>\n",
       "    .dataframe thead tr:only-child th {\n",
       "        text-align: right;\n",
       "    }\n",
       "\n",
       "    .dataframe thead th {\n",
       "        text-align: left;\n",
       "    }\n",
       "\n",
       "    .dataframe tbody tr th {\n",
       "        vertical-align: top;\n",
       "    }\n",
       "</style>\n",
       "<table border=\"1\" class=\"dataframe\">\n",
       "  <thead>\n",
       "    <tr style=\"text-align: right;\">\n",
       "      <th></th>\n",
       "      <th>Open</th>\n",
       "      <th>High</th>\n",
       "      <th>Low</th>\n",
       "      <th>Close</th>\n",
       "      <th>Adj Close</th>\n",
       "      <th>Volume</th>\n",
       "    </tr>\n",
       "  </thead>\n",
       "  <tbody>\n",
       "    <tr>\n",
       "      <th>2018-04-27</th>\n",
       "      <td>24.30</td>\n",
       "      <td>24.30</td>\n",
       "      <td>24.30</td>\n",
       "      <td>24.30</td>\n",
       "      <td>24.30</td>\n",
       "      <td>1</td>\n",
       "    </tr>\n",
       "  </tbody>\n",
       "</table>\n",
       "</div>"
      ],
      "text/plain": [
       "             Open   High    Low  Close Adj Close  Volume\n",
       "2018-04-27  24.30  24.30  24.30  24.30     24.30       1"
      ]
     },
     "execution_count": 4,
     "metadata": {},
     "output_type": "execute_result"
    }
   ],
   "source": [
    "pageURL = \"https://web.tmxmoney.com/quote.php?qm_symbol=BCE.PR.Q\"\n",
    "\n",
    "page = urllib2.urlopen(pageURL)\n",
    "\n",
    "parsedPage = BeautifulSoup(page)\n",
    "\n",
    "stockPrice = parsedPage.find('div', attrs={'class': 'quote-price priceLarge'}).find('span').text\n",
    "\n",
    "volume = parsedPage.find('div', attrs={'class': 'quote-volume volumeLarge'}).text.strip()[8:].strip()\n",
    "\n",
    "dateNow = datetime.datetime.now().strftime(\"%Y-%m-%d\")\n",
    "ref = pdr.DataReader('IBM', data_source='yahoo', start=dateNow, end=dateNow)\n",
    "lastTradingDay = ref.index[0].strftime(\"%Y-%m-%d\")\n",
    "\n",
    "\n",
    "\n",
    "entries = [stockPrice, stockPrice, stockPrice, stockPrice, stockPrice, 1]\n",
    "\n",
    "pd.DataFrame([entries], columns=['Open', 'High', 'Low', 'Close', 'Adj Close', 'Volume'],\n",
    "             index=pd.date_range(lastTradingDay, periods=1))\n",
    "\n"
   ]
  },
  {
   "cell_type": "code",
   "execution_count": null,
   "metadata": {
    "collapsed": true
   },
   "outputs": [],
   "source": []
  }
 ],
 "metadata": {
  "kernelspec": {
   "display_name": "Python 2",
   "language": "python",
   "name": "python2"
  },
  "language_info": {
   "codemirror_mode": {
    "name": "ipython",
    "version": 2
   },
   "file_extension": ".py",
   "mimetype": "text/x-python",
   "name": "python",
   "nbconvert_exporter": "python",
   "pygments_lexer": "ipython2",
   "version": "2.7.13"
  }
 },
 "nbformat": 4,
 "nbformat_minor": 2
}
