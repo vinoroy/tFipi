{
 "cells": [
  {
   "cell_type": "code",
   "execution_count": 1,
   "metadata": {},
   "outputs": [
    {
     "name": "stdout",
     "output_type": "stream",
     "text": [
      "{u'_default': {u'1': {u'assetID': u'MFC',\n",
      "                      u'assetType': u'COMMON',\n",
      "                      u'debtFeedRef': None,\n",
      "                      u'debtFeedType': None,\n",
      "                      u'percentOwnership': 1,\n",
      "                      u'priceFeedRef': u'MFC.TO',\n",
      "                      u'priceFeedType': u'YAHOO',\n",
      "                      u'purchaseDate': u'2018-02-23',\n",
      "                      u'purchasePrice': 24.609,\n",
      "                      u'saleDate': None,\n",
      "                      u'salePrice': None,\n",
      "                      u'thresholds': [],\n",
      "                      u'volume': 700},\n",
      "               u'2': {u'assetID': u'HydroOne',\n",
      "                      u'assetType': u'COMMON',\n",
      "                      u'debtFeedRef': None,\n",
      "                      u'debtFeedType': None,\n",
      "                      u'percentOwnership': 1,\n",
      "                      u'priceFeedRef': u'H.TO',\n",
      "                      u'priceFeedType': u'YAHOO',\n",
      "                      u'purchaseDate': u'2015-11-05',\n",
      "                      u'purchasePrice': 20.5,\n",
      "                      u'saleDate': None,\n",
      "                      u'salePrice': None,\n",
      "                      u'thresholds': [],\n",
      "                      u'volume': 500},\n",
      "               u'3': {u'assetID': u'Pembina',\n",
      "                      u'assetType': u'COMMON',\n",
      "                      u'debtFeedRef': None,\n",
      "                      u'debtFeedType': None,\n",
      "                      u'percentOwnership': 1,\n",
      "                      u'priceFeedRef': u'PPL.TO',\n",
      "                      u'priceFeedType': u'YAHOO',\n",
      "                      u'purchaseDate': u'2018-02-16',\n",
      "                      u'purchasePrice': 41.486,\n",
      "                      u'saleDate': None,\n",
      "                      u'salePrice': None,\n",
      "                      u'thresholds': [],\n",
      "                      u'volume': 410},\n",
      "               u'4': {u'assetID': u'Rogers',\n",
      "                      u'assetType': u'COMMON',\n",
      "                      u'debtFeedRef': None,\n",
      "                      u'debtFeedType': None,\n",
      "                      u'percentOwnership': 1,\n",
      "                      u'priceFeedRef': u'RCI-B.TO',\n",
      "                      u'priceFeedType': u'YAHOO',\n",
      "                      u'purchaseDate': u'2018-02-16',\n",
      "                      u'purchasePrice': 58.663,\n",
      "                      u'saleDate': None,\n",
      "                      u'salePrice': None,\n",
      "                      u'thresholds': [],\n",
      "                      u'volume': 300},\n",
      "               u'5': {u'assetID': u'BCE',\n",
      "                      u'assetType': u'COMMON',\n",
      "                      u'debtFeedRef': None,\n",
      "                      u'debtFeedType': None,\n",
      "                      u'percentOwnership': 1,\n",
      "                      u'priceFeedRef': u'BCE.TO',\n",
      "                      u'priceFeedType': u'YAHOO',\n",
      "                      u'purchaseDate': u'1997-12-12',\n",
      "                      u'purchasePrice': 2.858,\n",
      "                      u'saleDate': None,\n",
      "                      u'salePrice': None,\n",
      "                      u'thresholds': [],\n",
      "                      u'volume': 179}}}\n"
     ]
    }
   ],
   "source": [
    "import json\n",
    "from pprint import pprint\n",
    "\n",
    "data = json.load(open('reg.json'))\n",
    "\n",
    "pprint(data)"
   ]
  },
  {
   "cell_type": "code",
   "execution_count": 11,
   "metadata": {},
   "outputs": [
    {
     "ename": "TypeError",
     "evalue": "string indices must be integers",
     "output_type": "error",
     "traceback": [
      "\u001b[0;31m---------------------------------------------------------------------------\u001b[0m",
      "\u001b[0;31mTypeError\u001b[0m                                 Traceback (most recent call last)",
      "\u001b[0;32m<ipython-input-11-3f3303f6e978>\u001b[0m in \u001b[0;36m<module>\u001b[0;34m()\u001b[0m\n\u001b[1;32m      1\u001b[0m \u001b[0;32mfor\u001b[0m \u001b[0massets\u001b[0m \u001b[0;32min\u001b[0m \u001b[0mdata\u001b[0m\u001b[0;34m[\u001b[0m\u001b[0;34m'_default'\u001b[0m\u001b[0;34m]\u001b[0m\u001b[0;34m:\u001b[0m\u001b[0;34m\u001b[0m\u001b[0m\n\u001b[1;32m      2\u001b[0m     \u001b[0;32mfor\u001b[0m \u001b[0mi\u001b[0m \u001b[0;32min\u001b[0m \u001b[0mrange\u001b[0m\u001b[0;34m(\u001b[0m\u001b[0mlen\u001b[0m\u001b[0;34m(\u001b[0m\u001b[0massets\u001b[0m\u001b[0;34m)\u001b[0m\u001b[0;34m)\u001b[0m\u001b[0;34m:\u001b[0m\u001b[0;34m\u001b[0m\u001b[0m\n\u001b[0;32m----> 3\u001b[0;31m         \u001b[0;32mprint\u001b[0m \u001b[0massets\u001b[0m\u001b[0;34m[\u001b[0m\u001b[0mstr\u001b[0m\u001b[0;34m(\u001b[0m\u001b[0mi\u001b[0m\u001b[0;34m)\u001b[0m\u001b[0;34m]\u001b[0m\u001b[0;34m[\u001b[0m\u001b[0;34m'assetID'\u001b[0m\u001b[0;34m]\u001b[0m\u001b[0;34m\u001b[0m\u001b[0m\n\u001b[0m",
      "\u001b[0;31mTypeError\u001b[0m: string indices must be integers"
     ]
    }
   ],
   "source": [
    "for assets in data['_default']:\n",
    "    for i in range(len(assets)):\n",
    "        print assets[str(i)]['assetID']"
   ]
  },
  {
   "cell_type": "code",
   "execution_count": 14,
   "metadata": {},
   "outputs": [
    {
     "data": {
      "text/plain": [
       "u'MFC'"
      ]
     },
     "execution_count": 14,
     "metadata": {},
     "output_type": "execute_result"
    }
   ],
   "source": [
    "data['_default']['1']['assetID']"
   ]
  },
  {
   "cell_type": "code",
   "execution_count": 15,
   "metadata": {
    "collapsed": true
   },
   "outputs": [],
   "source": [
    "assets = data['_default']\n"
   ]
  },
  {
   "cell_type": "code",
   "execution_count": 17,
   "metadata": {},
   "outputs": [
    {
     "data": {
      "text/plain": [
       "5"
      ]
     },
     "execution_count": 17,
     "metadata": {},
     "output_type": "execute_result"
    }
   ],
   "source": [
    "len(assets)"
   ]
  },
  {
   "cell_type": "code",
   "execution_count": 23,
   "metadata": {},
   "outputs": [
    {
     "data": {
      "text/plain": [
       "[1, 2, 3, 4, 5]"
      ]
     },
     "execution_count": 23,
     "metadata": {},
     "output_type": "execute_result"
    }
   ],
   "source": [
    "range(1,len(assets)+1)"
   ]
  },
  {
   "cell_type": "code",
   "execution_count": 26,
   "metadata": {},
   "outputs": [
    {
     "name": "stdout",
     "output_type": "stream",
     "text": [
      "{u'assetType': u'COMMON', u'debtFeedRef': None, u'percentOwnership': 1, u'assetID': u'MFC', u'purchaseDate': u'2018-02-23', u'priceFeedType': u'YAHOO', u'saleDate': None, u'volume': 700, u'purchasePrice': 24.609, u'priceFeedRef': u'MFC.TO', u'salePrice': None, u'debtFeedType': None, u'thresholds': []}\n",
      "next\n",
      "{u'assetType': u'COMMON', u'debtFeedRef': None, u'percentOwnership': 1, u'assetID': u'HydroOne', u'purchaseDate': u'2015-11-05', u'priceFeedType': u'YAHOO', u'saleDate': None, u'volume': 500, u'purchasePrice': 20.5, u'priceFeedRef': u'H.TO', u'salePrice': None, u'debtFeedType': None, u'thresholds': []}\n",
      "next\n",
      "{u'assetType': u'COMMON', u'debtFeedRef': None, u'percentOwnership': 1, u'assetID': u'Pembina', u'purchaseDate': u'2018-02-16', u'priceFeedType': u'YAHOO', u'saleDate': None, u'volume': 410, u'purchasePrice': 41.486, u'priceFeedRef': u'PPL.TO', u'salePrice': None, u'debtFeedType': None, u'thresholds': []}\n",
      "next\n",
      "{u'assetType': u'COMMON', u'debtFeedRef': None, u'percentOwnership': 1, u'assetID': u'Rogers', u'purchaseDate': u'2018-02-16', u'priceFeedType': u'YAHOO', u'saleDate': None, u'volume': 300, u'purchasePrice': 58.663, u'priceFeedRef': u'RCI-B.TO', u'salePrice': None, u'debtFeedType': None, u'thresholds': []}\n",
      "next\n",
      "{u'assetType': u'COMMON', u'debtFeedRef': None, u'percentOwnership': 1, u'assetID': u'BCE', u'purchaseDate': u'1997-12-12', u'priceFeedType': u'YAHOO', u'saleDate': None, u'volume': 179, u'purchasePrice': 2.858, u'priceFeedRef': u'BCE.TO', u'salePrice': None, u'debtFeedType': None, u'thresholds': []}\n",
      "next\n"
     ]
    }
   ],
   "source": [
    "for i in range(1,len(assets)+1):\n",
    "    print assets[str(i)]\n",
    "    print 'next'"
   ]
  },
  {
   "cell_type": "code",
   "execution_count": 30,
   "metadata": {
    "collapsed": true
   },
   "outputs": [],
   "source": [
    "assets = {u'1': {u'assetID': u'MFC',\n",
    "                      u'assetType': u'COMMON',\n",
    "                      u'debtFeedRef': None,\n",
    "                      u'debtFeedType': None,\n",
    "                      u'percentOwnership': 1,\n",
    "                      u'priceFeedRef': u'MFC.TO',\n",
    "                      u'priceFeedType': u'YAHOO',\n",
    "                      u'purchaseDate': u'2018-02-23',\n",
    "                      u'purchasePrice': 24.609,\n",
    "                      u'saleDate': None,\n",
    "                      u'salePrice': None,\n",
    "                      u'thresholds': [],\n",
    "                      u'volume': 700},\n",
    "               u'2': {u'assetID': u'HydroOne',\n",
    "                      u'assetType': u'COMMON',\n",
    "                      u'debtFeedRef': None,\n",
    "                      u'debtFeedType': None,\n",
    "                      u'percentOwnership': 1,\n",
    "                      u'priceFeedRef': u'H.TO',\n",
    "                      u'priceFeedType': u'YAHOO',\n",
    "                      u'purchaseDate': u'2015-11-05',\n",
    "                      u'purchasePrice': 20.5,\n",
    "                      u'saleDate': None,\n",
    "                      u'salePrice': None,\n",
    "                      u'thresholds': [],\n",
    "                      u'volume': 500},\n",
    "               u'3': {u'assetID': u'Pembina',\n",
    "                      u'assetType': u'COMMON',\n",
    "                      u'debtFeedRef': None,\n",
    "                      u'debtFeedType': None,\n",
    "                      u'percentOwnership': 1,\n",
    "                      u'priceFeedRef': u'PPL.TO',\n",
    "                      u'priceFeedType': u'YAHOO',\n",
    "                      u'purchaseDate': u'2018-02-16',\n",
    "                      u'purchasePrice': 41.486,\n",
    "                      u'saleDate': None,\n",
    "                      u'salePrice': None,\n",
    "                      u'thresholds': [],\n",
    "                      u'volume': 410},\n",
    "               u'4': {u'assetID': u'Rogers',\n",
    "                      u'assetType': u'COMMON',\n",
    "                      u'debtFeedRef': None,\n",
    "                      u'debtFeedType': None,\n",
    "                      u'percentOwnership': 1,\n",
    "                      u'priceFeedRef': u'RCI-B.TO',\n",
    "                      u'priceFeedType': u'YAHOO',\n",
    "                      u'purchaseDate': u'2018-02-16',\n",
    "                      u'purchasePrice': 58.663,\n",
    "                      u'saleDate': None,\n",
    "                      u'salePrice': None,\n",
    "                      u'thresholds': [],\n",
    "                      u'volume': 300},\n",
    "               u'5': {u'assetID': u'BCE',\n",
    "                      u'assetType': u'COMMON',\n",
    "                      u'debtFeedRef': None,\n",
    "                      u'debtFeedType': None,\n",
    "                      u'percentOwnership': 1,\n",
    "                      u'priceFeedRef': u'BCE.TO',\n",
    "                      u'priceFeedType': u'YAHOO',\n",
    "                      u'purchaseDate': u'1997-12-12',\n",
    "                      u'purchasePrice': 2.858,\n",
    "                      u'saleDate': None,\n",
    "                      u'salePrice': None,\n",
    "                      u'thresholds': [],\n",
    "                      u'volume': 179}}"
   ]
  },
  {
   "cell_type": "code",
   "execution_count": 31,
   "metadata": {},
   "outputs": [
    {
     "name": "stdout",
     "output_type": "stream",
     "text": [
      "{u'percentOwnership': 1, u'assetID': u'MFC', u'purchaseDate': u'2018-02-23', u'priceFeedType': u'YAHOO', u'saleDate': None, u'volume': 700, u'priceFeedRef': u'MFC.TO', u'assetType': u'COMMON', u'debtFeedRef': None, u'purchasePrice': 24.609, u'salePrice': None, u'debtFeedType': None, u'thresholds': []}\n",
      "next\n",
      "{u'percentOwnership': 1, u'assetID': u'HydroOne', u'purchaseDate': u'2015-11-05', u'priceFeedType': u'YAHOO', u'saleDate': None, u'volume': 500, u'priceFeedRef': u'H.TO', u'assetType': u'COMMON', u'debtFeedRef': None, u'purchasePrice': 20.5, u'salePrice': None, u'debtFeedType': None, u'thresholds': []}\n",
      "next\n",
      "{u'percentOwnership': 1, u'assetID': u'Pembina', u'purchaseDate': u'2018-02-16', u'priceFeedType': u'YAHOO', u'saleDate': None, u'volume': 410, u'priceFeedRef': u'PPL.TO', u'assetType': u'COMMON', u'debtFeedRef': None, u'purchasePrice': 41.486, u'salePrice': None, u'debtFeedType': None, u'thresholds': []}\n",
      "next\n",
      "{u'percentOwnership': 1, u'assetID': u'Rogers', u'purchaseDate': u'2018-02-16', u'priceFeedType': u'YAHOO', u'saleDate': None, u'volume': 300, u'priceFeedRef': u'RCI-B.TO', u'assetType': u'COMMON', u'debtFeedRef': None, u'purchasePrice': 58.663, u'salePrice': None, u'debtFeedType': None, u'thresholds': []}\n",
      "next\n",
      "{u'percentOwnership': 1, u'assetID': u'BCE', u'purchaseDate': u'1997-12-12', u'priceFeedType': u'YAHOO', u'saleDate': None, u'volume': 179, u'priceFeedRef': u'BCE.TO', u'assetType': u'COMMON', u'debtFeedRef': None, u'purchasePrice': 2.858, u'salePrice': None, u'debtFeedType': None, u'thresholds': []}\n",
      "next\n"
     ]
    }
   ],
   "source": [
    "for i in range(1,len(assets)+1):\n",
    "    print assets[str(i)]\n",
    "    print 'next'"
   ]
  },
  {
   "cell_type": "code",
   "execution_count": null,
   "metadata": {
    "collapsed": true
   },
   "outputs": [],
   "source": []
  }
 ],
 "metadata": {
  "kernelspec": {
   "display_name": "Python 2",
   "language": "python",
   "name": "python2"
  },
  "language_info": {
   "codemirror_mode": {
    "name": "ipython",
    "version": 2
   },
   "file_extension": ".py",
   "mimetype": "text/x-python",
   "name": "python",
   "nbconvert_exporter": "python",
   "pygments_lexer": "ipython2",
   "version": "2.7.13"
  }
 },
 "nbformat": 4,
 "nbformat_minor": 2
}
