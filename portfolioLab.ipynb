{
 "cells": [
  {
   "cell_type": "code",
   "execution_count": 1,
   "metadata": {
    "collapsed": true
   },
   "outputs": [],
   "source": [
    "from __future__ import division\n",
    "\n",
    "import securities as st\n",
    "from portfolio import *\n",
    "\n",
    "import numpy as np\n",
    "import pandas as pd\n"
   ]
  },
  {
   "cell_type": "code",
   "execution_count": 2,
   "metadata": {},
   "outputs": [
    {
     "name": "stderr",
     "output_type": "stream",
     "text": [
      "/Users/vincentroy/anaconda/envs/dash/lib/python2.7/site-packages/bs4/__init__.py:181: UserWarning: No parser was explicitly specified, so I'm using the best available HTML parser for this system (\"lxml\"). This usually isn't a problem, but if you run this code on another system, or in a different virtual environment, it may use a different parser and behave differently.\n",
      "\n",
      "The code that caused this warning is on line 174 of the file /Users/vincentroy/anaconda/envs/dash/lib/python2.7/runpy.py. To get rid of this warning, change code that looks like this:\n",
      "\n",
      " BeautifulSoup(YOUR_MARKUP})\n",
      "\n",
      "to this:\n",
      "\n",
      " BeautifulSoup(YOUR_MARKUP, \"lxml\")\n",
      "\n",
      "  markup_type=markup_type))\n"
     ]
    }
   ],
   "source": [
    "myP = Portfolio('/Users/vincentroy/Documents/tFipi/data/fiDB.json')"
   ]
  },
  {
   "cell_type": "code",
   "execution_count": 3,
   "metadata": {},
   "outputs": [
    {
     "data": {
      "text/html": [
       "<div>\n",
       "<style>\n",
       "    .dataframe thead tr:only-child th {\n",
       "        text-align: right;\n",
       "    }\n",
       "\n",
       "    .dataframe thead th {\n",
       "        text-align: left;\n",
       "    }\n",
       "\n",
       "    .dataframe tbody tr th {\n",
       "        vertical-align: top;\n",
       "    }\n",
       "</style>\n",
       "<table border=\"1\" class=\"dataframe\">\n",
       "  <thead>\n",
       "    <tr style=\"text-align: right;\">\n",
       "      <th></th>\n",
       "      <th>Asset ID</th>\n",
       "      <th>Purchase date</th>\n",
       "      <th>Purchase price</th>\n",
       "      <th>Volume</th>\n",
       "      <th>Acquisition</th>\n",
       "      <th>Close</th>\n",
       "      <th>Market</th>\n",
       "      <th>Est Profit</th>\n",
       "      <th>% Est Profit</th>\n",
       "      <th>Annual Return</th>\n",
       "    </tr>\n",
       "  </thead>\n",
       "  <tbody>\n",
       "    <tr>\n",
       "      <th>0</th>\n",
       "      <td>IBM</td>\n",
       "      <td>2012-01-01</td>\n",
       "      <td>156.5</td>\n",
       "      <td>1000</td>\n",
       "      <td>156500</td>\n",
       "      <td>144.96</td>\n",
       "      <td>144960</td>\n",
       "      <td>-11540</td>\n",
       "      <td>-7.37</td>\n",
       "      <td>-0.01</td>\n",
       "    </tr>\n",
       "    <tr>\n",
       "      <th>1</th>\n",
       "      <td>Telus</td>\n",
       "      <td>2016-01-01</td>\n",
       "      <td>34.8</td>\n",
       "      <td>1000</td>\n",
       "      <td>34800</td>\n",
       "      <td>45.95</td>\n",
       "      <td>45950</td>\n",
       "      <td>11150</td>\n",
       "      <td>32.04</td>\n",
       "      <td>0.13</td>\n",
       "    </tr>\n",
       "    <tr>\n",
       "      <th>2</th>\n",
       "      <td>BCE PFD SER AQ</td>\n",
       "      <td>2009-12-01</td>\n",
       "      <td>22.627</td>\n",
       "      <td>450</td>\n",
       "      <td>10182.1</td>\n",
       "      <td>24.4</td>\n",
       "      <td>10980</td>\n",
       "      <td>797.85</td>\n",
       "      <td>7.84</td>\n",
       "      <td>0</td>\n",
       "    </tr>\n",
       "    <tr>\n",
       "      <th>0</th>\n",
       "      <td>Total</td>\n",
       "      <td></td>\n",
       "      <td></td>\n",
       "      <td></td>\n",
       "      <td>201482</td>\n",
       "      <td></td>\n",
       "      <td>201890</td>\n",
       "      <td>407.86</td>\n",
       "      <td></td>\n",
       "      <td></td>\n",
       "    </tr>\n",
       "  </tbody>\n",
       "</table>\n",
       "</div>"
      ],
      "text/plain": [
       "         Asset ID Purchase date Purchase price Volume Acquisition   Close  \\\n",
       "0             IBM    2012-01-01          156.5   1000      156500  144.96   \n",
       "1           Telus    2016-01-01           34.8   1000       34800   45.95   \n",
       "2  BCE PFD SER AQ    2009-12-01         22.627    450     10182.1    24.4   \n",
       "0           Total                                          201482           \n",
       "\n",
       "   Market Est Profit % Est Profit Annual Return  \n",
       "0  144960     -11540        -7.37         -0.01  \n",
       "1   45950      11150        32.04          0.13  \n",
       "2   10980     797.85         7.84             0  \n",
       "0  201890     407.86                             "
      ]
     },
     "execution_count": 3,
     "metadata": {},
     "output_type": "execute_result"
    }
   ],
   "source": [
    "myP.summary"
   ]
  },
  {
   "cell_type": "code",
   "execution_count": 4,
   "metadata": {},
   "outputs": [
    {
     "data": {
      "text/plain": [
       "Index([u'Open', u'High', u'Low', u'Close', u'Adj Close', u'Volume', u'Market',\n",
       "       u'Est Profit', u'% Est Profit', u'RateReturn', u'Time Delta',\n",
       "       u'% Return', u'Annual Return'],\n",
       "      dtype='object')"
      ]
     },
     "execution_count": 4,
     "metadata": {},
     "output_type": "execute_result"
    }
   ],
   "source": [
    "myP.assets[2].perfMatrix.columns"
   ]
  },
  {
   "cell_type": "code",
   "execution_count": 5,
   "metadata": {},
   "outputs": [
    {
     "data": {
      "text/html": [
       "<div>\n",
       "<style>\n",
       "    .dataframe thead tr:only-child th {\n",
       "        text-align: right;\n",
       "    }\n",
       "\n",
       "    .dataframe thead th {\n",
       "        text-align: left;\n",
       "    }\n",
       "\n",
       "    .dataframe tbody tr th {\n",
       "        vertical-align: top;\n",
       "    }\n",
       "</style>\n",
       "<table border=\"1\" class=\"dataframe\">\n",
       "  <thead>\n",
       "    <tr style=\"text-align: right;\">\n",
       "      <th></th>\n",
       "      <th>Open</th>\n",
       "      <th>High</th>\n",
       "      <th>Low</th>\n",
       "      <th>Close</th>\n",
       "      <th>Adj Close</th>\n",
       "      <th>Volume</th>\n",
       "      <th>Market</th>\n",
       "      <th>Est Profit</th>\n",
       "      <th>% Est Profit</th>\n",
       "      <th>RateReturn</th>\n",
       "      <th>Time Delta</th>\n",
       "      <th>% Return</th>\n",
       "      <th>Annual Return</th>\n",
       "    </tr>\n",
       "  </thead>\n",
       "  <tbody>\n",
       "    <tr>\n",
       "      <th>2018-04-30</th>\n",
       "      <td>24.4</td>\n",
       "      <td>24.4</td>\n",
       "      <td>24.4</td>\n",
       "      <td>24.4</td>\n",
       "      <td>24.4</td>\n",
       "      <td>3374.0</td>\n",
       "      <td>10980.0</td>\n",
       "      <td>797.85</td>\n",
       "      <td>7.84</td>\n",
       "      <td>NaN</td>\n",
       "      <td>0.0</td>\n",
       "      <td>1.0</td>\n",
       "      <td>0.0</td>\n",
       "    </tr>\n",
       "  </tbody>\n",
       "</table>\n",
       "</div>"
      ],
      "text/plain": [
       "            Open  High   Low  Close  Adj Close  Volume   Market  Est Profit  \\\n",
       "2018-04-30  24.4  24.4  24.4   24.4       24.4  3374.0  10980.0      797.85   \n",
       "\n",
       "            % Est Profit  RateReturn  Time Delta  % Return  Annual Return  \n",
       "2018-04-30          7.84         NaN         0.0       1.0            0.0  "
      ]
     },
     "execution_count": 5,
     "metadata": {},
     "output_type": "execute_result"
    }
   ],
   "source": [
    "myP.assets[2].perfMatrix"
   ]
  },
  {
   "cell_type": "code",
   "execution_count": null,
   "metadata": {
    "collapsed": true
   },
   "outputs": [],
   "source": [
    "availPortfolios = [{'label': 'regular', 'value': 'reg.json'},\n",
    "                    {'label': 'fiducie Amelie', 'value': 'fidAmelie.json'},\n",
    "                    {'label': 'aa', 'value': 'aa'}]"
   ]
  },
  {
   "cell_type": "code",
   "execution_count": null,
   "metadata": {
    "collapsed": true
   },
   "outputs": [],
   "source": [
    "availPortfolios[0]['value']"
   ]
  },
  {
   "cell_type": "code",
   "execution_count": null,
   "metadata": {},
   "outputs": [],
   "source": [
    "myP.assets[4].getHistoricalPrice('2018-04-24', '2018-04-24')"
   ]
  },
  {
   "cell_type": "code",
   "execution_count": null,
   "metadata": {
    "collapsed": true
   },
   "outputs": [],
   "source": []
  }
 ],
 "metadata": {
  "kernelspec": {
   "display_name": "Python 2",
   "language": "python",
   "name": "python2"
  },
  "language_info": {
   "codemirror_mode": {
    "name": "ipython",
    "version": 2
   },
   "file_extension": ".py",
   "mimetype": "text/x-python",
   "name": "python",
   "nbconvert_exporter": "python",
   "pygments_lexer": "ipython2",
   "version": "2.7.13"
  }
 },
 "nbformat": 4,
 "nbformat_minor": 1
}
