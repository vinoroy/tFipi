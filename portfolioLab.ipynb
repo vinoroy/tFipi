{
 "cells": [
  {
   "cell_type": "code",
   "execution_count": 1,
   "metadata": {
    "collapsed": true
   },
   "outputs": [],
   "source": [
    "from __future__ import division\n",
    "\n",
    "import securities as st\n",
    "from portfolio import *\n",
    "\n",
    "import numpy as np\n",
    "import pandas as pd\n"
   ]
  },
  {
   "cell_type": "code",
   "execution_count": 2,
   "metadata": {},
   "outputs": [],
   "source": [
    "myP = Portfolio('/Users/vincentroy/Documents/tFipi/data/reg.json')"
   ]
  },
  {
   "cell_type": "code",
   "execution_count": 3,
   "metadata": {},
   "outputs": [
    {
     "data": {
      "text/html": [
       "<div>\n",
       "<style>\n",
       "    .dataframe thead tr:only-child th {\n",
       "        text-align: right;\n",
       "    }\n",
       "\n",
       "    .dataframe thead th {\n",
       "        text-align: left;\n",
       "    }\n",
       "\n",
       "    .dataframe tbody tr th {\n",
       "        vertical-align: top;\n",
       "    }\n",
       "</style>\n",
       "<table border=\"1\" class=\"dataframe\">\n",
       "  <thead>\n",
       "    <tr style=\"text-align: right;\">\n",
       "      <th></th>\n",
       "      <th>Asset ID</th>\n",
       "      <th>Purchase date</th>\n",
       "      <th>Purchase price</th>\n",
       "      <th>Volume</th>\n",
       "      <th>Acquisition</th>\n",
       "      <th>Close</th>\n",
       "      <th>Market</th>\n",
       "      <th>Est Profit</th>\n",
       "      <th>% Est Profit</th>\n",
       "      <th>Annual Return</th>\n",
       "    </tr>\n",
       "  </thead>\n",
       "  <tbody>\n",
       "    <tr>\n",
       "      <th>0</th>\n",
       "      <td>MFC</td>\n",
       "      <td>2018-02-23</td>\n",
       "      <td>24.609</td>\n",
       "      <td>700</td>\n",
       "      <td>17226.3</td>\n",
       "      <td>24.4</td>\n",
       "      <td>17080</td>\n",
       "      <td>-146.3</td>\n",
       "      <td>-0.85</td>\n",
       "      <td>0.01</td>\n",
       "    </tr>\n",
       "    <tr>\n",
       "      <th>1</th>\n",
       "      <td>HydroOne</td>\n",
       "      <td>2015-11-05</td>\n",
       "      <td>20.5</td>\n",
       "      <td>500</td>\n",
       "      <td>10250</td>\n",
       "      <td>20.5</td>\n",
       "      <td>10250</td>\n",
       "      <td>0</td>\n",
       "      <td>0</td>\n",
       "      <td>0.01</td>\n",
       "    </tr>\n",
       "    <tr>\n",
       "      <th>2</th>\n",
       "      <td>Pembina</td>\n",
       "      <td>2018-02-16</td>\n",
       "      <td>41.486</td>\n",
       "      <td>410</td>\n",
       "      <td>17009.3</td>\n",
       "      <td>40.34</td>\n",
       "      <td>16539.4</td>\n",
       "      <td>-469.86</td>\n",
       "      <td>-2.76</td>\n",
       "      <td>-0.05</td>\n",
       "    </tr>\n",
       "    <tr>\n",
       "      <th>3</th>\n",
       "      <td>Rogers</td>\n",
       "      <td>2018-02-16</td>\n",
       "      <td>58.663</td>\n",
       "      <td>300</td>\n",
       "      <td>17598.9</td>\n",
       "      <td>60.94</td>\n",
       "      <td>18282</td>\n",
       "      <td>683.1</td>\n",
       "      <td>3.88</td>\n",
       "      <td>0.38</td>\n",
       "    </tr>\n",
       "    <tr>\n",
       "      <th>4</th>\n",
       "      <td>BCE</td>\n",
       "      <td>1997-12-12</td>\n",
       "      <td>2.858</td>\n",
       "      <td>179</td>\n",
       "      <td>511.582</td>\n",
       "      <td>53.72</td>\n",
       "      <td>9615.88</td>\n",
       "      <td>9104.3</td>\n",
       "      <td>1779.64</td>\n",
       "      <td>0.13</td>\n",
       "    </tr>\n",
       "    <tr>\n",
       "      <th>0</th>\n",
       "      <td>Total</td>\n",
       "      <td></td>\n",
       "      <td></td>\n",
       "      <td></td>\n",
       "      <td>62596</td>\n",
       "      <td></td>\n",
       "      <td>71767.3</td>\n",
       "      <td>9171.24</td>\n",
       "      <td></td>\n",
       "      <td></td>\n",
       "    </tr>\n",
       "  </tbody>\n",
       "</table>\n",
       "</div>"
      ],
      "text/plain": [
       "   Asset ID Purchase date Purchase price Volume Acquisition  Close   Market  \\\n",
       "0       MFC    2018-02-23         24.609    700     17226.3   24.4    17080   \n",
       "1  HydroOne    2015-11-05           20.5    500       10250   20.5    10250   \n",
       "2   Pembina    2018-02-16         41.486    410     17009.3  40.34  16539.4   \n",
       "3    Rogers    2018-02-16         58.663    300     17598.9  60.94    18282   \n",
       "4       BCE    1997-12-12          2.858    179     511.582  53.72  9615.88   \n",
       "0     Total                                           62596         71767.3   \n",
       "\n",
       "  Est Profit % Est Profit Annual Return  \n",
       "0     -146.3        -0.85          0.01  \n",
       "1          0            0          0.01  \n",
       "2    -469.86        -2.76         -0.05  \n",
       "3      683.1         3.88          0.38  \n",
       "4     9104.3      1779.64          0.13  \n",
       "0    9171.24                             "
      ]
     },
     "execution_count": 3,
     "metadata": {},
     "output_type": "execute_result"
    }
   ],
   "source": [
    "myP.summary"
   ]
  },
  {
   "cell_type": "code",
   "execution_count": null,
   "metadata": {
    "collapsed": true
   },
   "outputs": [],
   "source": [
    "myP.assets[1].perfMatrix.columns"
   ]
  },
  {
   "cell_type": "code",
   "execution_count": null,
   "metadata": {
    "collapsed": true
   },
   "outputs": [],
   "source": [
    "myP.assets[4].perfMatrix"
   ]
  },
  {
   "cell_type": "code",
   "execution_count": null,
   "metadata": {
    "collapsed": true
   },
   "outputs": [],
   "source": [
    "availPortfolios = [{'label': 'regular', 'value': 'reg.json'},\n",
    "                    {'label': 'fiducie Amelie', 'value': 'fidAmelie.json'},\n",
    "                    {'label': 'aa', 'value': 'aa'}]"
   ]
  },
  {
   "cell_type": "code",
   "execution_count": null,
   "metadata": {
    "collapsed": true
   },
   "outputs": [],
   "source": [
    "availPortfolios[0]['value']"
   ]
  },
  {
   "cell_type": "code",
   "execution_count": 8,
   "metadata": {},
   "outputs": [
    {
     "data": {
      "text/html": [
       "<div>\n",
       "<style>\n",
       "    .dataframe thead tr:only-child th {\n",
       "        text-align: right;\n",
       "    }\n",
       "\n",
       "    .dataframe thead th {\n",
       "        text-align: left;\n",
       "    }\n",
       "\n",
       "    .dataframe tbody tr th {\n",
       "        vertical-align: top;\n",
       "    }\n",
       "</style>\n",
       "<table border=\"1\" class=\"dataframe\">\n",
       "  <thead>\n",
       "    <tr style=\"text-align: right;\">\n",
       "      <th></th>\n",
       "      <th>Open</th>\n",
       "      <th>High</th>\n",
       "      <th>Low</th>\n",
       "      <th>Close</th>\n",
       "      <th>Adj Close</th>\n",
       "      <th>Volume</th>\n",
       "    </tr>\n",
       "    <tr>\n",
       "      <th>Date</th>\n",
       "      <th></th>\n",
       "      <th></th>\n",
       "      <th></th>\n",
       "      <th></th>\n",
       "      <th></th>\n",
       "      <th></th>\n",
       "    </tr>\n",
       "  </thead>\n",
       "  <tbody>\n",
       "    <tr>\n",
       "      <th>2018-04-24</th>\n",
       "      <td>53.610001</td>\n",
       "      <td>54.064999</td>\n",
       "      <td>53.57</td>\n",
       "      <td>53.720001</td>\n",
       "      <td>53.720001</td>\n",
       "      <td>1197379</td>\n",
       "    </tr>\n",
       "    <tr>\n",
       "      <th>2018-04-24</th>\n",
       "      <td>53.610001</td>\n",
       "      <td>54.070000</td>\n",
       "      <td>53.57</td>\n",
       "      <td>53.720001</td>\n",
       "      <td>53.720001</td>\n",
       "      <td>1197400</td>\n",
       "    </tr>\n",
       "  </tbody>\n",
       "</table>\n",
       "</div>"
      ],
      "text/plain": [
       "                 Open       High    Low      Close  Adj Close   Volume\n",
       "Date                                                                  \n",
       "2018-04-24  53.610001  54.064999  53.57  53.720001  53.720001  1197379\n",
       "2018-04-24  53.610001  54.070000  53.57  53.720001  53.720001  1197400"
      ]
     },
     "execution_count": 8,
     "metadata": {},
     "output_type": "execute_result"
    }
   ],
   "source": [
    "myP.assets[4].getHistoricalPrice('2018-04-24', '2018-04-24')"
   ]
  },
  {
   "cell_type": "code",
   "execution_count": null,
   "metadata": {
    "collapsed": true
   },
   "outputs": [],
   "source": []
  }
 ],
 "metadata": {
  "kernelspec": {
   "display_name": "Python 2",
   "language": "python",
   "name": "python2"
  },
  "language_info": {
   "codemirror_mode": {
    "name": "ipython",
    "version": 2
   },
   "file_extension": ".py",
   "mimetype": "text/x-python",
   "name": "python",
   "nbconvert_exporter": "python",
   "pygments_lexer": "ipython2",
   "version": "2.7.13"
  }
 },
 "nbformat": 4,
 "nbformat_minor": 1
}
